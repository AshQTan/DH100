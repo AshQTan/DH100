{
  "nbformat": 4,
  "nbformat_minor": 0,
  "metadata": {
    "colab": {
      "name": "DH100_demo.ipynb",
      "provenance": [],
      "collapsed_sections": []
    },
    "kernelspec": {
      "name": "python3",
      "display_name": "Python 3"
    },
    "language_info": {
      "name": "python"
    }
  },
  "cells": [
    {
      "cell_type": "code",
      "metadata": {
        "colab": {
          "base_uri": "https://localhost:8080/"
        },
        "id": "DLNzIQWrx5T-",
        "outputId": "6f5b6eef-aa47-4885-f21e-e51a9ca66ee3"
      },
      "source": [
        "2+2"
      ],
      "execution_count": 1,
      "outputs": [
        {
          "output_type": "execute_result",
          "data": {
            "text/plain": [
              "4"
            ]
          },
          "metadata": {
            "tags": []
          },
          "execution_count": 1
        }
      ]
    },
    {
      "cell_type": "code",
      "metadata": {
        "id": "LCaplGpQzGnY"
      },
      "source": [
        ""
      ],
      "execution_count": null,
      "outputs": []
    },
    {
      "cell_type": "markdown",
      "metadata": {
        "id": "gTUvzzjNzH3q"
      },
      "source": [
        "**DH 100 Notebook Demo** \n",
        "$x = \\frac{1}{2}$"
      ]
    },
    {
      "cell_type": "code",
      "metadata": {
        "id": "jYtjLseWzKlk"
      },
      "source": [
        "x = 2+2"
      ],
      "execution_count": 2,
      "outputs": []
    },
    {
      "cell_type": "code",
      "metadata": {
        "colab": {
          "base_uri": "https://localhost:8080/"
        },
        "id": "98Ihq3CHzwDs",
        "outputId": "d1103844-5caa-4b83-a50d-1069f72ec708"
      },
      "source": [
        "x"
      ],
      "execution_count": 9,
      "outputs": [
        {
          "output_type": "execute_result",
          "data": {
            "text/plain": [
              "16"
            ]
          },
          "metadata": {
            "tags": []
          },
          "execution_count": 9
        }
      ]
    },
    {
      "cell_type": "code",
      "metadata": {
        "colab": {
          "base_uri": "https://localhost:8080/"
        },
        "id": "aAXzYx_Pzxjs",
        "outputId": "051d356f-81b7-4ee3-f5e4-1ff7f6cb2f1e"
      },
      "source": [
        "x\n",
        "9+9"
      ],
      "execution_count": 4,
      "outputs": [
        {
          "output_type": "execute_result",
          "data": {
            "text/plain": [
              "18"
            ]
          },
          "metadata": {
            "tags": []
          },
          "execution_count": 4
        }
      ]
    },
    {
      "cell_type": "code",
      "metadata": {
        "colab": {
          "base_uri": "https://localhost:8080/"
        },
        "id": "ZpRyvNe0z1Wt",
        "outputId": "fcea4cf1-347d-42f1-9acc-944d4817256e"
      },
      "source": [
        "print(x)\n",
        "9+9"
      ],
      "execution_count": 5,
      "outputs": [
        {
          "output_type": "stream",
          "text": [
            "4\n"
          ],
          "name": "stdout"
        },
        {
          "output_type": "execute_result",
          "data": {
            "text/plain": [
              "18"
            ]
          },
          "metadata": {
            "tags": []
          },
          "execution_count": 5
        }
      ]
    },
    {
      "cell_type": "code",
      "metadata": {
        "colab": {
          "base_uri": "https://localhost:8080/"
        },
        "id": "UUbVJPDjz4j8",
        "outputId": "2bfe8c88-6d5f-4690-fe23-5c137a955558"
      },
      "source": [
        "for i in range(10):\n",
        "  print(i)\n",
        "x"
      ],
      "execution_count": 7,
      "outputs": [
        {
          "output_type": "stream",
          "text": [
            "0\n",
            "1\n",
            "2\n",
            "3\n",
            "4\n",
            "5\n",
            "6\n",
            "7\n",
            "8\n",
            "9\n"
          ],
          "name": "stdout"
        },
        {
          "output_type": "execute_result",
          "data": {
            "text/plain": [
              "4"
            ]
          },
          "metadata": {
            "tags": []
          },
          "execution_count": 7
        }
      ]
    },
    {
      "cell_type": "code",
      "metadata": {
        "colab": {
          "base_uri": "https://localhost:8080/"
        },
        "id": "IezdsLFEz8v6",
        "outputId": "2f7c192b-2cef-47ab-c665-23018bedd600"
      },
      "source": [
        "x = 16\n",
        "print(x)"
      ],
      "execution_count": 8,
      "outputs": [
        {
          "output_type": "stream",
          "text": [
            "16\n"
          ],
          "name": "stdout"
        }
      ]
    },
    {
      "cell_type": "code",
      "metadata": {
        "id": "fA6Di6fd0Gwb"
      },
      "source": [
        "def sumx(inputx):\n",
        "  outputx = x + 6\n",
        "  return outputx"
      ],
      "execution_count": 16,
      "outputs": []
    },
    {
      "cell_type": "code",
      "metadata": {
        "colab": {
          "base_uri": "https://localhost:8080/"
        },
        "id": "CPAP51yB0vrO",
        "outputId": "6da5af3a-3f9c-40c7-9cfa-3d9934370563"
      },
      "source": [
        "sumx(x)"
      ],
      "execution_count": 17,
      "outputs": [
        {
          "output_type": "execute_result",
          "data": {
            "text/plain": [
              "22"
            ]
          },
          "metadata": {
            "tags": []
          },
          "execution_count": 17
        }
      ]
    },
    {
      "cell_type": "code",
      "metadata": {
        "id": "IX6X3Hnl0x0n"
      },
      "source": [
        "[1,2,3, [1,2,3]]"
      ],
      "execution_count": null,
      "outputs": []
    },
    {
      "cell_type": "markdown",
      "metadata": {
        "id": "n6nhegfi1Zxh"
      },
      "source": [
        "#### Data Analysis of Bike Trips\n",
        "\n",
        "Starting here"
      ]
    },
    {
      "cell_type": "code",
      "metadata": {
        "id": "H6p9qWDK1cEz"
      },
      "source": [
        "import pandas as pd\n",
        "import numpy as np\n",
        "import matplotlib.pyplot as plt\n"
      ],
      "execution_count": 18,
      "outputs": []
    },
    {
      "cell_type": "code",
      "metadata": {
        "colab": {
          "base_uri": "https://localhost:8080/"
        },
        "id": "oXB6grMl1_TD",
        "outputId": "f7bd756e-0c81-48e2-9ebc-046f989692c7"
      },
      "source": [
        "pip install newspaper3k"
      ],
      "execution_count": 20,
      "outputs": [
        {
          "output_type": "stream",
          "text": [
            "Collecting newspaper3k\n",
            "\u001b[?25l  Downloading https://files.pythonhosted.org/packages/d7/b9/51afecb35bb61b188a4b44868001de348a0e8134b4dfa00ffc191567c4b9/newspaper3k-0.2.8-py3-none-any.whl (211kB)\n",
            "\u001b[K     |████████████████████████████████| 215kB 2.9MB/s \n",
            "\u001b[?25hRequirement already satisfied: nltk>=3.2.1 in /usr/local/lib/python3.7/dist-packages (from newspaper3k) (3.2.5)\n",
            "Requirement already satisfied: lxml>=3.6.0 in /usr/local/lib/python3.7/dist-packages (from newspaper3k) (4.2.6)\n",
            "Collecting tldextract>=2.0.1\n",
            "\u001b[?25l  Downloading https://files.pythonhosted.org/packages/7e/62/b6acd3129c5615b9860e670df07fd55b76175b63e6b7f68282c7cad38e9e/tldextract-3.1.0-py2.py3-none-any.whl (87kB)\n",
            "\u001b[K     |████████████████████████████████| 92kB 8.4MB/s \n",
            "\u001b[?25hRequirement already satisfied: Pillow>=3.3.0 in /usr/local/lib/python3.7/dist-packages (from newspaper3k) (7.1.2)\n",
            "Requirement already satisfied: beautifulsoup4>=4.4.1 in /usr/local/lib/python3.7/dist-packages (from newspaper3k) (4.6.3)\n",
            "Requirement already satisfied: python-dateutil>=2.5.3 in /usr/local/lib/python3.7/dist-packages (from newspaper3k) (2.8.1)\n",
            "Collecting tinysegmenter==0.3\n",
            "  Downloading https://files.pythonhosted.org/packages/17/82/86982e4b6d16e4febc79c2a1d68ee3b707e8a020c5d2bc4af8052d0f136a/tinysegmenter-0.3.tar.gz\n",
            "Collecting feedparser>=5.2.1\n",
            "\u001b[?25l  Downloading https://files.pythonhosted.org/packages/1c/21/faf1bac028662cc8adb2b5ef7a6f3999a765baa2835331df365289b0ca56/feedparser-6.0.2-py3-none-any.whl (80kB)\n",
            "\u001b[K     |████████████████████████████████| 81kB 8.6MB/s \n",
            "\u001b[?25hCollecting feedfinder2>=0.0.4\n",
            "  Downloading https://files.pythonhosted.org/packages/35/82/1251fefec3bb4b03fd966c7e7f7a41c9fc2bb00d823a34c13f847fd61406/feedfinder2-0.0.4.tar.gz\n",
            "Requirement already satisfied: PyYAML>=3.11 in /usr/local/lib/python3.7/dist-packages (from newspaper3k) (3.13)\n",
            "Collecting jieba3k>=0.35.1\n",
            "\u001b[?25l  Downloading https://files.pythonhosted.org/packages/a9/cb/2c8332bcdc14d33b0bedd18ae0a4981a069c3513e445120da3c3f23a8aaa/jieba3k-0.35.1.zip (7.4MB)\n",
            "\u001b[K     |████████████████████████████████| 7.4MB 24.6MB/s \n",
            "\u001b[?25hCollecting cssselect>=0.9.2\n",
            "  Downloading https://files.pythonhosted.org/packages/3b/d4/3b5c17f00cce85b9a1e6f91096e1cc8e8ede2e1be8e96b87ce1ed09e92c5/cssselect-1.1.0-py2.py3-none-any.whl\n",
            "Requirement already satisfied: requests>=2.10.0 in /usr/local/lib/python3.7/dist-packages (from newspaper3k) (2.23.0)\n",
            "Requirement already satisfied: six in /usr/local/lib/python3.7/dist-packages (from nltk>=3.2.1->newspaper3k) (1.15.0)\n",
            "Requirement already satisfied: idna in /usr/local/lib/python3.7/dist-packages (from tldextract>=2.0.1->newspaper3k) (2.10)\n",
            "Requirement already satisfied: filelock>=3.0.8 in /usr/local/lib/python3.7/dist-packages (from tldextract>=2.0.1->newspaper3k) (3.0.12)\n",
            "Collecting requests-file>=1.4\n",
            "  Downloading https://files.pythonhosted.org/packages/77/86/cdb5e8eaed90796aa83a6d9f75cfbd37af553c47a291cd47bc410ef9bdb2/requests_file-1.5.1-py2.py3-none-any.whl\n",
            "Collecting sgmllib3k\n",
            "  Downloading https://files.pythonhosted.org/packages/9e/bd/3704a8c3e0942d711c1299ebf7b9091930adae6675d7c8f476a7ce48653c/sgmllib3k-1.0.0.tar.gz\n",
            "Requirement already satisfied: certifi>=2017.4.17 in /usr/local/lib/python3.7/dist-packages (from requests>=2.10.0->newspaper3k) (2020.12.5)\n",
            "Requirement already satisfied: chardet<4,>=3.0.2 in /usr/local/lib/python3.7/dist-packages (from requests>=2.10.0->newspaper3k) (3.0.4)\n",
            "Requirement already satisfied: urllib3!=1.25.0,!=1.25.1,<1.26,>=1.21.1 in /usr/local/lib/python3.7/dist-packages (from requests>=2.10.0->newspaper3k) (1.24.3)\n",
            "Building wheels for collected packages: tinysegmenter, feedfinder2, jieba3k, sgmllib3k\n",
            "  Building wheel for tinysegmenter (setup.py) ... \u001b[?25l\u001b[?25hdone\n",
            "  Created wheel for tinysegmenter: filename=tinysegmenter-0.3-cp37-none-any.whl size=13538 sha256=b0d65465cab09eb8b0def7f9de71a1bdf14ae64fc709cc53085d22b7dbfa1855\n",
            "  Stored in directory: /root/.cache/pip/wheels/81/2b/43/a02ede72324dd40cdd7ca53aad718c7710628e91b8b0dc0f02\n",
            "  Building wheel for feedfinder2 (setup.py) ... \u001b[?25l\u001b[?25hdone\n",
            "  Created wheel for feedfinder2: filename=feedfinder2-0.0.4-cp37-none-any.whl size=3358 sha256=dba1f7b1624c1cf4c67c7f9b723d86e11a8bb6ce280e0c799331eb4c88e0b195\n",
            "  Stored in directory: /root/.cache/pip/wheels/de/03/ca/778e3a7a627e3d98836cc890e7cb40c7575424cfd3340f40ed\n",
            "  Building wheel for jieba3k (setup.py) ... \u001b[?25l\u001b[?25hdone\n",
            "  Created wheel for jieba3k: filename=jieba3k-0.35.1-cp37-none-any.whl size=7398406 sha256=e8eb34e69f8adba263f3121ba72e74960b8f1c1ea5c305c622a0a3fcb13cf7c2\n",
            "  Stored in directory: /root/.cache/pip/wheels/83/15/9c/a3f1f67e7f7181170ad37d32e503c35da20627c013f438ed34\n",
            "  Building wheel for sgmllib3k (setup.py) ... \u001b[?25l\u001b[?25hdone\n",
            "  Created wheel for sgmllib3k: filename=sgmllib3k-1.0.0-cp37-none-any.whl size=6067 sha256=65896dec46f9503c7075287e0397778f8c9193907dca1007593de53c27e4a8ad\n",
            "  Stored in directory: /root/.cache/pip/wheels/f1/80/5a/444ba08a550cdd241bd9baf8bae44be750efe370adb944506a\n",
            "Successfully built tinysegmenter feedfinder2 jieba3k sgmllib3k\n",
            "Installing collected packages: requests-file, tldextract, tinysegmenter, sgmllib3k, feedparser, feedfinder2, jieba3k, cssselect, newspaper3k\n",
            "Successfully installed cssselect-1.1.0 feedfinder2-0.0.4 feedparser-6.0.2 jieba3k-0.35.1 newspaper3k-0.2.8 requests-file-1.5.1 sgmllib3k-1.0.0 tinysegmenter-0.3 tldextract-3.1.0\n"
          ],
          "name": "stdout"
        }
      ]
    },
    {
      "cell_type": "code",
      "metadata": {
        "id": "g3sHFVOV19kw"
      },
      "source": [
        "trips = pd.read_csv(\"sample_data/trip.csv\")"
      ],
      "execution_count": null,
      "outputs": []
    },
    {
      "cell_type": "code",
      "metadata": {
        "colab": {
          "base_uri": "https://localhost:8080/",
          "height": 549
        },
        "id": "lSa1ltFA2Y8i",
        "outputId": "8fcd0423-65cd-4720-a22c-9f5d8544ed8a"
      },
      "source": [
        "trips.head(10)"
      ],
      "execution_count": 31,
      "outputs": [
        {
          "output_type": "execute_result",
          "data": {
            "text/html": [
              "<div>\n",
              "<style scoped>\n",
              "    .dataframe tbody tr th:only-of-type {\n",
              "        vertical-align: middle;\n",
              "    }\n",
              "\n",
              "    .dataframe tbody tr th {\n",
              "        vertical-align: top;\n",
              "    }\n",
              "\n",
              "    .dataframe thead th {\n",
              "        text-align: right;\n",
              "    }\n",
              "</style>\n",
              "<table border=\"1\" class=\"dataframe\">\n",
              "  <thead>\n",
              "    <tr style=\"text-align: right;\">\n",
              "      <th></th>\n",
              "      <th>id</th>\n",
              "      <th>duration</th>\n",
              "      <th>start_date</th>\n",
              "      <th>start_station_name</th>\n",
              "      <th>start_station_id</th>\n",
              "      <th>end_date</th>\n",
              "      <th>end_station_name</th>\n",
              "      <th>end_station_id</th>\n",
              "      <th>bike_id</th>\n",
              "      <th>subscription_type</th>\n",
              "      <th>zip_code</th>\n",
              "    </tr>\n",
              "  </thead>\n",
              "  <tbody>\n",
              "    <tr>\n",
              "      <th>0</th>\n",
              "      <td>4576</td>\n",
              "      <td>63</td>\n",
              "      <td>8/29/2013 14:13</td>\n",
              "      <td>South Van Ness at Market</td>\n",
              "      <td>66</td>\n",
              "      <td>8/29/2013 14:14</td>\n",
              "      <td>South Van Ness at Market</td>\n",
              "      <td>66</td>\n",
              "      <td>520</td>\n",
              "      <td>Subscriber</td>\n",
              "      <td>94127</td>\n",
              "    </tr>\n",
              "    <tr>\n",
              "      <th>1</th>\n",
              "      <td>4607</td>\n",
              "      <td>70</td>\n",
              "      <td>8/29/2013 14:42</td>\n",
              "      <td>San Jose City Hall</td>\n",
              "      <td>10</td>\n",
              "      <td>8/29/2013 14:43</td>\n",
              "      <td>San Jose City Hall</td>\n",
              "      <td>10</td>\n",
              "      <td>661</td>\n",
              "      <td>Subscriber</td>\n",
              "      <td>95138</td>\n",
              "    </tr>\n",
              "    <tr>\n",
              "      <th>2</th>\n",
              "      <td>4130</td>\n",
              "      <td>71</td>\n",
              "      <td>8/29/2013 10:16</td>\n",
              "      <td>Mountain View City Hall</td>\n",
              "      <td>27</td>\n",
              "      <td>8/29/2013 10:17</td>\n",
              "      <td>Mountain View City Hall</td>\n",
              "      <td>27</td>\n",
              "      <td>48</td>\n",
              "      <td>Subscriber</td>\n",
              "      <td>97214</td>\n",
              "    </tr>\n",
              "    <tr>\n",
              "      <th>3</th>\n",
              "      <td>4251</td>\n",
              "      <td>77</td>\n",
              "      <td>8/29/2013 11:29</td>\n",
              "      <td>San Jose City Hall</td>\n",
              "      <td>10</td>\n",
              "      <td>8/29/2013 11:30</td>\n",
              "      <td>San Jose City Hall</td>\n",
              "      <td>10</td>\n",
              "      <td>26</td>\n",
              "      <td>Subscriber</td>\n",
              "      <td>95060</td>\n",
              "    </tr>\n",
              "    <tr>\n",
              "      <th>4</th>\n",
              "      <td>4299</td>\n",
              "      <td>83</td>\n",
              "      <td>8/29/2013 12:02</td>\n",
              "      <td>South Van Ness at Market</td>\n",
              "      <td>66</td>\n",
              "      <td>8/29/2013 12:04</td>\n",
              "      <td>Market at 10th</td>\n",
              "      <td>67</td>\n",
              "      <td>319</td>\n",
              "      <td>Subscriber</td>\n",
              "      <td>94103</td>\n",
              "    </tr>\n",
              "    <tr>\n",
              "      <th>5</th>\n",
              "      <td>4927</td>\n",
              "      <td>103</td>\n",
              "      <td>8/29/2013 18:54</td>\n",
              "      <td>Golden Gate at Polk</td>\n",
              "      <td>59</td>\n",
              "      <td>8/29/2013 18:56</td>\n",
              "      <td>Golden Gate at Polk</td>\n",
              "      <td>59</td>\n",
              "      <td>527</td>\n",
              "      <td>Subscriber</td>\n",
              "      <td>94109</td>\n",
              "    </tr>\n",
              "    <tr>\n",
              "      <th>6</th>\n",
              "      <td>4500</td>\n",
              "      <td>109</td>\n",
              "      <td>8/29/2013 13:25</td>\n",
              "      <td>Santa Clara at Almaden</td>\n",
              "      <td>4</td>\n",
              "      <td>8/29/2013 13:27</td>\n",
              "      <td>Adobe on Almaden</td>\n",
              "      <td>5</td>\n",
              "      <td>679</td>\n",
              "      <td>Subscriber</td>\n",
              "      <td>95112</td>\n",
              "    </tr>\n",
              "    <tr>\n",
              "      <th>7</th>\n",
              "      <td>4563</td>\n",
              "      <td>111</td>\n",
              "      <td>8/29/2013 14:02</td>\n",
              "      <td>San Salvador at 1st</td>\n",
              "      <td>8</td>\n",
              "      <td>8/29/2013 14:04</td>\n",
              "      <td>San Salvador at 1st</td>\n",
              "      <td>8</td>\n",
              "      <td>687</td>\n",
              "      <td>Subscriber</td>\n",
              "      <td>95112</td>\n",
              "    </tr>\n",
              "    <tr>\n",
              "      <th>8</th>\n",
              "      <td>4760</td>\n",
              "      <td>113</td>\n",
              "      <td>8/29/2013 17:01</td>\n",
              "      <td>South Van Ness at Market</td>\n",
              "      <td>66</td>\n",
              "      <td>8/29/2013 17:03</td>\n",
              "      <td>South Van Ness at Market</td>\n",
              "      <td>66</td>\n",
              "      <td>553</td>\n",
              "      <td>Subscriber</td>\n",
              "      <td>94103</td>\n",
              "    </tr>\n",
              "    <tr>\n",
              "      <th>9</th>\n",
              "      <td>4258</td>\n",
              "      <td>114</td>\n",
              "      <td>8/29/2013 11:33</td>\n",
              "      <td>San Jose City Hall</td>\n",
              "      <td>10</td>\n",
              "      <td>8/29/2013 11:35</td>\n",
              "      <td>MLK Library</td>\n",
              "      <td>11</td>\n",
              "      <td>107</td>\n",
              "      <td>Subscriber</td>\n",
              "      <td>95060</td>\n",
              "    </tr>\n",
              "  </tbody>\n",
              "</table>\n",
              "</div>"
            ],
            "text/plain": [
              "     id  duration       start_date  ... bike_id  subscription_type zip_code\n",
              "0  4576        63  8/29/2013 14:13  ...     520         Subscriber    94127\n",
              "1  4607        70  8/29/2013 14:42  ...     661         Subscriber    95138\n",
              "2  4130        71  8/29/2013 10:16  ...      48         Subscriber    97214\n",
              "3  4251        77  8/29/2013 11:29  ...      26         Subscriber    95060\n",
              "4  4299        83  8/29/2013 12:02  ...     319         Subscriber    94103\n",
              "5  4927       103  8/29/2013 18:54  ...     527         Subscriber    94109\n",
              "6  4500       109  8/29/2013 13:25  ...     679         Subscriber    95112\n",
              "7  4563       111  8/29/2013 14:02  ...     687         Subscriber    95112\n",
              "8  4760       113  8/29/2013 17:01  ...     553         Subscriber    94103\n",
              "9  4258       114  8/29/2013 11:33  ...     107         Subscriber    95060\n",
              "\n",
              "[10 rows x 11 columns]"
            ]
          },
          "metadata": {
            "tags": []
          },
          "execution_count": 31
        }
      ]
    },
    {
      "cell_type": "code",
      "metadata": {
        "colab": {
          "base_uri": "https://localhost:8080/"
        },
        "id": "kehb8gNY2gfy",
        "outputId": "e4e0426e-e019-4553-8997-8d205adaad8c"
      },
      "source": [
        "trips.shape"
      ],
      "execution_count": 33,
      "outputs": [
        {
          "output_type": "execute_result",
          "data": {
            "text/plain": [
              "(669959, 11)"
            ]
          },
          "metadata": {
            "tags": []
          },
          "execution_count": 33
        }
      ]
    },
    {
      "cell_type": "code",
      "metadata": {
        "colab": {
          "base_uri": "https://localhost:8080/"
        },
        "id": "zZhMw0ju3PrS",
        "outputId": "95581844-631f-442c-dae8-90fca8ebba6c"
      },
      "source": [
        "trips.groupby(\"start_station_name\").duration.mean()"
      ],
      "execution_count": 34,
      "outputs": [
        {
          "output_type": "execute_result",
          "data": {
            "text/plain": [
              "start_station_name\n",
              "2nd at Folsom                                     581.709849\n",
              "2nd at South Park                                 687.877054\n",
              "2nd at Townsend                                   791.664977\n",
              "5th at Howard                                     927.342599\n",
              "Adobe on Almaden                                 1201.237072\n",
              "                                                    ...     \n",
              "Townsend at 7th                                   676.522467\n",
              "University and Emerson                           7090.239418\n",
              "Washington at Kearney                            1979.307745\n",
              "Washington at Kearny                             1653.497670\n",
              "Yerba Buena Center of the Arts (3rd @ Howard)     935.167541\n",
              "Name: duration, Length: 74, dtype: float64"
            ]
          },
          "metadata": {
            "tags": []
          },
          "execution_count": 34
        }
      ]
    },
    {
      "cell_type": "code",
      "metadata": {
        "colab": {
          "base_uri": "https://localhost:8080/"
        },
        "id": "jXMNFluX3iNt",
        "outputId": "817537eb-1db7-4044-8b0f-a1be16d90fb5"
      },
      "source": [
        "trips.groupby([\"start_station_name\", \"end_station_name\"]).duration.mean()"
      ],
      "execution_count": 35,
      "outputs": [
        {
          "output_type": "execute_result",
          "data": {
            "text/plain": [
              "start_station_name                             end_station_name                             \n",
              "2nd at Folsom                                  2nd at Folsom                                    3740.699029\n",
              "                                               2nd at South Park                                 288.154830\n",
              "                                               2nd at Townsend                                   382.461818\n",
              "                                               5th at Howard                                     477.303406\n",
              "                                               Beale at Market                                   665.445415\n",
              "                                                                                                   ...     \n",
              "Yerba Buena Center of the Arts (3rd @ Howard)  Temporary Transbay Terminal (Howard at Beale)     839.482143\n",
              "                                               Townsend at 7th                                   880.059497\n",
              "                                               Washington at Kearney                             610.033333\n",
              "                                               Washington at Kearny                             1039.714286\n",
              "                                               Yerba Buena Center of the Arts (3rd @ Howard)    5152.868902\n",
              "Name: duration, Length: 1916, dtype: float64"
            ]
          },
          "metadata": {
            "tags": []
          },
          "execution_count": 35
        }
      ]
    },
    {
      "cell_type": "code",
      "metadata": {
        "colab": {
          "base_uri": "https://localhost:8080/"
        },
        "id": "aa0ggVoI3s-3",
        "outputId": "16d259af-7751-445f-94c6-608854e9602e"
      },
      "source": [
        "trips.isnull().sum(axis=0)"
      ],
      "execution_count": 38,
      "outputs": [
        {
          "output_type": "execute_result",
          "data": {
            "text/plain": [
              "id                       0\n",
              "duration                 0\n",
              "start_date               0\n",
              "start_station_name       0\n",
              "start_station_id         0\n",
              "end_date                 0\n",
              "end_station_name         0\n",
              "end_station_id           0\n",
              "bike_id                  0\n",
              "subscription_type        0\n",
              "zip_code              6619\n",
              "dtype: int64"
            ]
          },
          "metadata": {
            "tags": []
          },
          "execution_count": 38
        }
      ]
    },
    {
      "cell_type": "code",
      "metadata": {
        "colab": {
          "base_uri": "https://localhost:8080/"
        },
        "id": "BLuD-ppJ35n-",
        "outputId": "2e6dca90-dceb-4d07-9a3f-0eab667cc932"
      },
      "source": [
        "trips[\"start_date\"]"
      ],
      "execution_count": 39,
      "outputs": [
        {
          "output_type": "execute_result",
          "data": {
            "text/plain": [
              "0         8/29/2013 14:13\n",
              "1         8/29/2013 14:42\n",
              "2         8/29/2013 10:16\n",
              "3         8/29/2013 11:29\n",
              "4         8/29/2013 12:02\n",
              "               ...       \n",
              "669954      9/1/2014 4:21\n",
              "669955      9/1/2014 3:16\n",
              "669956      9/1/2014 0:05\n",
              "669957      9/1/2014 0:05\n",
              "669958      9/1/2014 0:05\n",
              "Name: start_date, Length: 669959, dtype: object"
            ]
          },
          "metadata": {
            "tags": []
          },
          "execution_count": 39
        }
      ]
    },
    {
      "cell_type": "code",
      "metadata": {
        "colab": {
          "base_uri": "https://localhost:8080/"
        },
        "id": "gkeScP6S4Yl6",
        "outputId": "9bd84d32-e7e8-44fc-a8b9-03a04b8ed4cf"
      },
      "source": [
        "pd.to_datetime(trips[\"start_date\"])"
      ],
      "execution_count": 40,
      "outputs": [
        {
          "output_type": "execute_result",
          "data": {
            "text/plain": [
              "0        2013-08-29 14:13:00\n",
              "1        2013-08-29 14:42:00\n",
              "2        2013-08-29 10:16:00\n",
              "3        2013-08-29 11:29:00\n",
              "4        2013-08-29 12:02:00\n",
              "                 ...        \n",
              "669954   2014-09-01 04:21:00\n",
              "669955   2014-09-01 03:16:00\n",
              "669956   2014-09-01 00:05:00\n",
              "669957   2014-09-01 00:05:00\n",
              "669958   2014-09-01 00:05:00\n",
              "Name: start_date, Length: 669959, dtype: datetime64[ns]"
            ]
          },
          "metadata": {
            "tags": []
          },
          "execution_count": 40
        }
      ]
    },
    {
      "cell_type": "code",
      "metadata": {
        "id": "7vJLiyqJ4q_l"
      },
      "source": [
        "trips[\"start_date\"] = pd.to_datetime(trips[\"start_date\"])\n",
        "trips[\"end_date\"] = pd.to_datetime(trips[\"end_date\"])"
      ],
      "execution_count": 41,
      "outputs": []
    },
    {
      "cell_type": "code",
      "metadata": {
        "colab": {
          "base_uri": "https://localhost:8080/",
          "height": 394
        },
        "id": "3ixIxuZk5NGd",
        "outputId": "42299ec3-c4d7-47f8-bdb3-9b872b2f1f56"
      },
      "source": [
        "trips.head()"
      ],
      "execution_count": 42,
      "outputs": [
        {
          "output_type": "execute_result",
          "data": {
            "text/html": [
              "<div>\n",
              "<style scoped>\n",
              "    .dataframe tbody tr th:only-of-type {\n",
              "        vertical-align: middle;\n",
              "    }\n",
              "\n",
              "    .dataframe tbody tr th {\n",
              "        vertical-align: top;\n",
              "    }\n",
              "\n",
              "    .dataframe thead th {\n",
              "        text-align: right;\n",
              "    }\n",
              "</style>\n",
              "<table border=\"1\" class=\"dataframe\">\n",
              "  <thead>\n",
              "    <tr style=\"text-align: right;\">\n",
              "      <th></th>\n",
              "      <th>id</th>\n",
              "      <th>duration</th>\n",
              "      <th>start_date</th>\n",
              "      <th>start_station_name</th>\n",
              "      <th>start_station_id</th>\n",
              "      <th>end_date</th>\n",
              "      <th>end_station_name</th>\n",
              "      <th>end_station_id</th>\n",
              "      <th>bike_id</th>\n",
              "      <th>subscription_type</th>\n",
              "      <th>zip_code</th>\n",
              "    </tr>\n",
              "  </thead>\n",
              "  <tbody>\n",
              "    <tr>\n",
              "      <th>0</th>\n",
              "      <td>4576</td>\n",
              "      <td>63</td>\n",
              "      <td>2013-08-29 14:13:00</td>\n",
              "      <td>South Van Ness at Market</td>\n",
              "      <td>66</td>\n",
              "      <td>2013-08-29 14:14:00</td>\n",
              "      <td>South Van Ness at Market</td>\n",
              "      <td>66</td>\n",
              "      <td>520</td>\n",
              "      <td>Subscriber</td>\n",
              "      <td>94127</td>\n",
              "    </tr>\n",
              "    <tr>\n",
              "      <th>1</th>\n",
              "      <td>4607</td>\n",
              "      <td>70</td>\n",
              "      <td>2013-08-29 14:42:00</td>\n",
              "      <td>San Jose City Hall</td>\n",
              "      <td>10</td>\n",
              "      <td>2013-08-29 14:43:00</td>\n",
              "      <td>San Jose City Hall</td>\n",
              "      <td>10</td>\n",
              "      <td>661</td>\n",
              "      <td>Subscriber</td>\n",
              "      <td>95138</td>\n",
              "    </tr>\n",
              "    <tr>\n",
              "      <th>2</th>\n",
              "      <td>4130</td>\n",
              "      <td>71</td>\n",
              "      <td>2013-08-29 10:16:00</td>\n",
              "      <td>Mountain View City Hall</td>\n",
              "      <td>27</td>\n",
              "      <td>2013-08-29 10:17:00</td>\n",
              "      <td>Mountain View City Hall</td>\n",
              "      <td>27</td>\n",
              "      <td>48</td>\n",
              "      <td>Subscriber</td>\n",
              "      <td>97214</td>\n",
              "    </tr>\n",
              "    <tr>\n",
              "      <th>3</th>\n",
              "      <td>4251</td>\n",
              "      <td>77</td>\n",
              "      <td>2013-08-29 11:29:00</td>\n",
              "      <td>San Jose City Hall</td>\n",
              "      <td>10</td>\n",
              "      <td>2013-08-29 11:30:00</td>\n",
              "      <td>San Jose City Hall</td>\n",
              "      <td>10</td>\n",
              "      <td>26</td>\n",
              "      <td>Subscriber</td>\n",
              "      <td>95060</td>\n",
              "    </tr>\n",
              "    <tr>\n",
              "      <th>4</th>\n",
              "      <td>4299</td>\n",
              "      <td>83</td>\n",
              "      <td>2013-08-29 12:02:00</td>\n",
              "      <td>South Van Ness at Market</td>\n",
              "      <td>66</td>\n",
              "      <td>2013-08-29 12:04:00</td>\n",
              "      <td>Market at 10th</td>\n",
              "      <td>67</td>\n",
              "      <td>319</td>\n",
              "      <td>Subscriber</td>\n",
              "      <td>94103</td>\n",
              "    </tr>\n",
              "  </tbody>\n",
              "</table>\n",
              "</div>"
            ],
            "text/plain": [
              "     id  duration          start_date  ... bike_id  subscription_type zip_code\n",
              "0  4576        63 2013-08-29 14:13:00  ...     520         Subscriber    94127\n",
              "1  4607        70 2013-08-29 14:42:00  ...     661         Subscriber    95138\n",
              "2  4130        71 2013-08-29 10:16:00  ...      48         Subscriber    97214\n",
              "3  4251        77 2013-08-29 11:29:00  ...      26         Subscriber    95060\n",
              "4  4299        83 2013-08-29 12:02:00  ...     319         Subscriber    94103\n",
              "\n",
              "[5 rows x 11 columns]"
            ]
          },
          "metadata": {
            "tags": []
          },
          "execution_count": 42
        }
      ]
    },
    {
      "cell_type": "code",
      "metadata": {
        "id": "zzp8g4pF48AO"
      },
      "source": [
        "trips[\"day_of_week\"] = trips[\"start_date\"].dt.dayofweek"
      ],
      "execution_count": 43,
      "outputs": []
    },
    {
      "cell_type": "code",
      "metadata": {
        "colab": {
          "base_uri": "https://localhost:8080/"
        },
        "id": "vGkszdLI5sD6",
        "outputId": "415d5527-7e49-40ee-f77f-396655c545e8"
      },
      "source": [
        "trips.shape"
      ],
      "execution_count": 45,
      "outputs": [
        {
          "output_type": "execute_result",
          "data": {
            "text/plain": [
              "(669959, 12)"
            ]
          },
          "metadata": {
            "tags": []
          },
          "execution_count": 45
        }
      ]
    },
    {
      "cell_type": "code",
      "metadata": {
        "colab": {
          "base_uri": "https://localhost:8080/",
          "height": 779
        },
        "id": "XIyYQk3s5UjH",
        "outputId": "1c39fe5d-10ea-40cd-901c-e083a4fd5e16"
      },
      "source": [
        "trips"
      ],
      "execution_count": 49,
      "outputs": [
        {
          "output_type": "execute_result",
          "data": {
            "text/html": [
              "<div>\n",
              "<style scoped>\n",
              "    .dataframe tbody tr th:only-of-type {\n",
              "        vertical-align: middle;\n",
              "    }\n",
              "\n",
              "    .dataframe tbody tr th {\n",
              "        vertical-align: top;\n",
              "    }\n",
              "\n",
              "    .dataframe thead th {\n",
              "        text-align: right;\n",
              "    }\n",
              "</style>\n",
              "<table border=\"1\" class=\"dataframe\">\n",
              "  <thead>\n",
              "    <tr style=\"text-align: right;\">\n",
              "      <th></th>\n",
              "      <th>id</th>\n",
              "      <th>duration</th>\n",
              "      <th>start_date</th>\n",
              "      <th>start_station_name</th>\n",
              "      <th>start_station_id</th>\n",
              "      <th>end_date</th>\n",
              "      <th>end_station_name</th>\n",
              "      <th>end_station_id</th>\n",
              "      <th>bike_id</th>\n",
              "      <th>subscription_type</th>\n",
              "      <th>zip_code</th>\n",
              "      <th>day_of_week</th>\n",
              "    </tr>\n",
              "  </thead>\n",
              "  <tbody>\n",
              "    <tr>\n",
              "      <th>0</th>\n",
              "      <td>4576</td>\n",
              "      <td>63</td>\n",
              "      <td>2013-08-29 14:13:00</td>\n",
              "      <td>South Van Ness at Market</td>\n",
              "      <td>66</td>\n",
              "      <td>2013-08-29 14:14:00</td>\n",
              "      <td>South Van Ness at Market</td>\n",
              "      <td>66</td>\n",
              "      <td>520</td>\n",
              "      <td>Subscriber</td>\n",
              "      <td>94127</td>\n",
              "      <td>3</td>\n",
              "    </tr>\n",
              "    <tr>\n",
              "      <th>1</th>\n",
              "      <td>4607</td>\n",
              "      <td>70</td>\n",
              "      <td>2013-08-29 14:42:00</td>\n",
              "      <td>San Jose City Hall</td>\n",
              "      <td>10</td>\n",
              "      <td>2013-08-29 14:43:00</td>\n",
              "      <td>San Jose City Hall</td>\n",
              "      <td>10</td>\n",
              "      <td>661</td>\n",
              "      <td>Subscriber</td>\n",
              "      <td>95138</td>\n",
              "      <td>3</td>\n",
              "    </tr>\n",
              "    <tr>\n",
              "      <th>2</th>\n",
              "      <td>4130</td>\n",
              "      <td>71</td>\n",
              "      <td>2013-08-29 10:16:00</td>\n",
              "      <td>Mountain View City Hall</td>\n",
              "      <td>27</td>\n",
              "      <td>2013-08-29 10:17:00</td>\n",
              "      <td>Mountain View City Hall</td>\n",
              "      <td>27</td>\n",
              "      <td>48</td>\n",
              "      <td>Subscriber</td>\n",
              "      <td>97214</td>\n",
              "      <td>3</td>\n",
              "    </tr>\n",
              "    <tr>\n",
              "      <th>3</th>\n",
              "      <td>4251</td>\n",
              "      <td>77</td>\n",
              "      <td>2013-08-29 11:29:00</td>\n",
              "      <td>San Jose City Hall</td>\n",
              "      <td>10</td>\n",
              "      <td>2013-08-29 11:30:00</td>\n",
              "      <td>San Jose City Hall</td>\n",
              "      <td>10</td>\n",
              "      <td>26</td>\n",
              "      <td>Subscriber</td>\n",
              "      <td>95060</td>\n",
              "      <td>3</td>\n",
              "    </tr>\n",
              "    <tr>\n",
              "      <th>4</th>\n",
              "      <td>4299</td>\n",
              "      <td>83</td>\n",
              "      <td>2013-08-29 12:02:00</td>\n",
              "      <td>South Van Ness at Market</td>\n",
              "      <td>66</td>\n",
              "      <td>2013-08-29 12:04:00</td>\n",
              "      <td>Market at 10th</td>\n",
              "      <td>67</td>\n",
              "      <td>319</td>\n",
              "      <td>Subscriber</td>\n",
              "      <td>94103</td>\n",
              "      <td>3</td>\n",
              "    </tr>\n",
              "    <tr>\n",
              "      <th>...</th>\n",
              "      <td>...</td>\n",
              "      <td>...</td>\n",
              "      <td>...</td>\n",
              "      <td>...</td>\n",
              "      <td>...</td>\n",
              "      <td>...</td>\n",
              "      <td>...</td>\n",
              "      <td>...</td>\n",
              "      <td>...</td>\n",
              "      <td>...</td>\n",
              "      <td>...</td>\n",
              "      <td>...</td>\n",
              "    </tr>\n",
              "    <tr>\n",
              "      <th>669954</th>\n",
              "      <td>432951</td>\n",
              "      <td>619</td>\n",
              "      <td>2014-09-01 04:21:00</td>\n",
              "      <td>Powell Street BART</td>\n",
              "      <td>39</td>\n",
              "      <td>2014-09-01 04:32:00</td>\n",
              "      <td>Townsend at 7th</td>\n",
              "      <td>65</td>\n",
              "      <td>335</td>\n",
              "      <td>Subscriber</td>\n",
              "      <td>94118</td>\n",
              "      <td>0</td>\n",
              "    </tr>\n",
              "    <tr>\n",
              "      <th>669955</th>\n",
              "      <td>432950</td>\n",
              "      <td>6712</td>\n",
              "      <td>2014-09-01 03:16:00</td>\n",
              "      <td>Harry Bridges Plaza (Ferry Building)</td>\n",
              "      <td>50</td>\n",
              "      <td>2014-09-01 05:08:00</td>\n",
              "      <td>San Francisco Caltrain (Townsend at 4th)</td>\n",
              "      <td>70</td>\n",
              "      <td>259</td>\n",
              "      <td>Customer</td>\n",
              "      <td>44100</td>\n",
              "      <td>0</td>\n",
              "    </tr>\n",
              "    <tr>\n",
              "      <th>669956</th>\n",
              "      <td>432949</td>\n",
              "      <td>538</td>\n",
              "      <td>2014-09-01 00:05:00</td>\n",
              "      <td>South Van Ness at Market</td>\n",
              "      <td>66</td>\n",
              "      <td>2014-09-01 00:14:00</td>\n",
              "      <td>5th at Howard</td>\n",
              "      <td>57</td>\n",
              "      <td>466</td>\n",
              "      <td>Customer</td>\n",
              "      <td>32</td>\n",
              "      <td>0</td>\n",
              "    </tr>\n",
              "    <tr>\n",
              "      <th>669957</th>\n",
              "      <td>432948</td>\n",
              "      <td>568</td>\n",
              "      <td>2014-09-01 00:05:00</td>\n",
              "      <td>South Van Ness at Market</td>\n",
              "      <td>66</td>\n",
              "      <td>2014-09-01 00:15:00</td>\n",
              "      <td>5th at Howard</td>\n",
              "      <td>57</td>\n",
              "      <td>461</td>\n",
              "      <td>Customer</td>\n",
              "      <td>32</td>\n",
              "      <td>0</td>\n",
              "    </tr>\n",
              "    <tr>\n",
              "      <th>669958</th>\n",
              "      <td>432947</td>\n",
              "      <td>569</td>\n",
              "      <td>2014-09-01 00:05:00</td>\n",
              "      <td>South Van Ness at Market</td>\n",
              "      <td>66</td>\n",
              "      <td>2014-09-01 00:15:00</td>\n",
              "      <td>5th at Howard</td>\n",
              "      <td>57</td>\n",
              "      <td>318</td>\n",
              "      <td>Customer</td>\n",
              "      <td>32</td>\n",
              "      <td>0</td>\n",
              "    </tr>\n",
              "  </tbody>\n",
              "</table>\n",
              "<p>669959 rows × 12 columns</p>\n",
              "</div>"
            ],
            "text/plain": [
              "            id  duration  ... zip_code day_of_week\n",
              "0         4576        63  ...    94127           3\n",
              "1         4607        70  ...    95138           3\n",
              "2         4130        71  ...    97214           3\n",
              "3         4251        77  ...    95060           3\n",
              "4         4299        83  ...    94103           3\n",
              "...        ...       ...  ...      ...         ...\n",
              "669954  432951       619  ...    94118           0\n",
              "669955  432950      6712  ...    44100           0\n",
              "669956  432949       538  ...       32           0\n",
              "669957  432948       568  ...       32           0\n",
              "669958  432947       569  ...       32           0\n",
              "\n",
              "[669959 rows x 12 columns]"
            ]
          },
          "metadata": {
            "tags": []
          },
          "execution_count": 49
        }
      ]
    },
    {
      "cell_type": "code",
      "metadata": {
        "id": "ORXQgjmv5Vwr"
      },
      "source": [
        "trips[\"day_of_week_string\"] = trips[\"start_date\"].dt.day_name()"
      ],
      "execution_count": 50,
      "outputs": []
    },
    {
      "cell_type": "code",
      "metadata": {
        "colab": {
          "base_uri": "https://localhost:8080/",
          "height": 394
        },
        "id": "-dfo_6qt6ANm",
        "outputId": "1ce7758c-ad04-4e8e-e80b-63a509509fff"
      },
      "source": [
        "trips.head()"
      ],
      "execution_count": 51,
      "outputs": [
        {
          "output_type": "execute_result",
          "data": {
            "text/html": [
              "<div>\n",
              "<style scoped>\n",
              "    .dataframe tbody tr th:only-of-type {\n",
              "        vertical-align: middle;\n",
              "    }\n",
              "\n",
              "    .dataframe tbody tr th {\n",
              "        vertical-align: top;\n",
              "    }\n",
              "\n",
              "    .dataframe thead th {\n",
              "        text-align: right;\n",
              "    }\n",
              "</style>\n",
              "<table border=\"1\" class=\"dataframe\">\n",
              "  <thead>\n",
              "    <tr style=\"text-align: right;\">\n",
              "      <th></th>\n",
              "      <th>id</th>\n",
              "      <th>duration</th>\n",
              "      <th>start_date</th>\n",
              "      <th>start_station_name</th>\n",
              "      <th>start_station_id</th>\n",
              "      <th>end_date</th>\n",
              "      <th>end_station_name</th>\n",
              "      <th>end_station_id</th>\n",
              "      <th>bike_id</th>\n",
              "      <th>subscription_type</th>\n",
              "      <th>zip_code</th>\n",
              "      <th>day_of_week</th>\n",
              "      <th>day_of_week_string</th>\n",
              "    </tr>\n",
              "  </thead>\n",
              "  <tbody>\n",
              "    <tr>\n",
              "      <th>0</th>\n",
              "      <td>4576</td>\n",
              "      <td>63</td>\n",
              "      <td>2013-08-29 14:13:00</td>\n",
              "      <td>South Van Ness at Market</td>\n",
              "      <td>66</td>\n",
              "      <td>2013-08-29 14:14:00</td>\n",
              "      <td>South Van Ness at Market</td>\n",
              "      <td>66</td>\n",
              "      <td>520</td>\n",
              "      <td>Subscriber</td>\n",
              "      <td>94127</td>\n",
              "      <td>3</td>\n",
              "      <td>Thursday</td>\n",
              "    </tr>\n",
              "    <tr>\n",
              "      <th>1</th>\n",
              "      <td>4607</td>\n",
              "      <td>70</td>\n",
              "      <td>2013-08-29 14:42:00</td>\n",
              "      <td>San Jose City Hall</td>\n",
              "      <td>10</td>\n",
              "      <td>2013-08-29 14:43:00</td>\n",
              "      <td>San Jose City Hall</td>\n",
              "      <td>10</td>\n",
              "      <td>661</td>\n",
              "      <td>Subscriber</td>\n",
              "      <td>95138</td>\n",
              "      <td>3</td>\n",
              "      <td>Thursday</td>\n",
              "    </tr>\n",
              "    <tr>\n",
              "      <th>2</th>\n",
              "      <td>4130</td>\n",
              "      <td>71</td>\n",
              "      <td>2013-08-29 10:16:00</td>\n",
              "      <td>Mountain View City Hall</td>\n",
              "      <td>27</td>\n",
              "      <td>2013-08-29 10:17:00</td>\n",
              "      <td>Mountain View City Hall</td>\n",
              "      <td>27</td>\n",
              "      <td>48</td>\n",
              "      <td>Subscriber</td>\n",
              "      <td>97214</td>\n",
              "      <td>3</td>\n",
              "      <td>Thursday</td>\n",
              "    </tr>\n",
              "    <tr>\n",
              "      <th>3</th>\n",
              "      <td>4251</td>\n",
              "      <td>77</td>\n",
              "      <td>2013-08-29 11:29:00</td>\n",
              "      <td>San Jose City Hall</td>\n",
              "      <td>10</td>\n",
              "      <td>2013-08-29 11:30:00</td>\n",
              "      <td>San Jose City Hall</td>\n",
              "      <td>10</td>\n",
              "      <td>26</td>\n",
              "      <td>Subscriber</td>\n",
              "      <td>95060</td>\n",
              "      <td>3</td>\n",
              "      <td>Thursday</td>\n",
              "    </tr>\n",
              "    <tr>\n",
              "      <th>4</th>\n",
              "      <td>4299</td>\n",
              "      <td>83</td>\n",
              "      <td>2013-08-29 12:02:00</td>\n",
              "      <td>South Van Ness at Market</td>\n",
              "      <td>66</td>\n",
              "      <td>2013-08-29 12:04:00</td>\n",
              "      <td>Market at 10th</td>\n",
              "      <td>67</td>\n",
              "      <td>319</td>\n",
              "      <td>Subscriber</td>\n",
              "      <td>94103</td>\n",
              "      <td>3</td>\n",
              "      <td>Thursday</td>\n",
              "    </tr>\n",
              "  </tbody>\n",
              "</table>\n",
              "</div>"
            ],
            "text/plain": [
              "     id  duration          start_date  ... zip_code  day_of_week day_of_week_string\n",
              "0  4576        63 2013-08-29 14:13:00  ...    94127            3           Thursday\n",
              "1  4607        70 2013-08-29 14:42:00  ...    95138            3           Thursday\n",
              "2  4130        71 2013-08-29 10:16:00  ...    97214            3           Thursday\n",
              "3  4251        77 2013-08-29 11:29:00  ...    95060            3           Thursday\n",
              "4  4299        83 2013-08-29 12:02:00  ...    94103            3           Thursday\n",
              "\n",
              "[5 rows x 13 columns]"
            ]
          },
          "metadata": {
            "tags": []
          },
          "execution_count": 51
        }
      ]
    },
    {
      "cell_type": "code",
      "metadata": {
        "colab": {
          "base_uri": "https://localhost:8080/",
          "height": 779
        },
        "id": "tHJYvJAr6XDl",
        "outputId": "ac355daf-4663-43ca-ee5b-37bec3e55997"
      },
      "source": [
        "trips[\"day_of_week_string\"] = trips[\"day_of_week\"].replace({\n",
        "    0:\"Monday\",\n",
        "    1:\"Tuesday\",\n",
        "    2:\"Wednesday\",\n",
        "    3:\"Thursday\",\n",
        "    4:\"Friday\",\n",
        "    5:\"Saturday\",\n",
        "    6:\"Sunday\"\n",
        "})\n",
        "trips"
      ],
      "execution_count": 65,
      "outputs": [
        {
          "output_type": "execute_result",
          "data": {
            "text/html": [
              "<div>\n",
              "<style scoped>\n",
              "    .dataframe tbody tr th:only-of-type {\n",
              "        vertical-align: middle;\n",
              "    }\n",
              "\n",
              "    .dataframe tbody tr th {\n",
              "        vertical-align: top;\n",
              "    }\n",
              "\n",
              "    .dataframe thead th {\n",
              "        text-align: right;\n",
              "    }\n",
              "</style>\n",
              "<table border=\"1\" class=\"dataframe\">\n",
              "  <thead>\n",
              "    <tr style=\"text-align: right;\">\n",
              "      <th></th>\n",
              "      <th>id</th>\n",
              "      <th>duration</th>\n",
              "      <th>start_date</th>\n",
              "      <th>start_station_name</th>\n",
              "      <th>start_station_id</th>\n",
              "      <th>end_date</th>\n",
              "      <th>end_station_name</th>\n",
              "      <th>end_station_id</th>\n",
              "      <th>bike_id</th>\n",
              "      <th>subscription_type</th>\n",
              "      <th>zip_code</th>\n",
              "      <th>day_of_week</th>\n",
              "      <th>day_of_week_string</th>\n",
              "    </tr>\n",
              "  </thead>\n",
              "  <tbody>\n",
              "    <tr>\n",
              "      <th>0</th>\n",
              "      <td>4576</td>\n",
              "      <td>63</td>\n",
              "      <td>2013-08-29 14:13:00</td>\n",
              "      <td>South Van Ness at Market</td>\n",
              "      <td>66</td>\n",
              "      <td>2013-08-29 14:14:00</td>\n",
              "      <td>South Van Ness at Market</td>\n",
              "      <td>66</td>\n",
              "      <td>520</td>\n",
              "      <td>Subscriber</td>\n",
              "      <td>94127</td>\n",
              "      <td>3</td>\n",
              "      <td>Thursday</td>\n",
              "    </tr>\n",
              "    <tr>\n",
              "      <th>1</th>\n",
              "      <td>4607</td>\n",
              "      <td>70</td>\n",
              "      <td>2013-08-29 14:42:00</td>\n",
              "      <td>San Jose City Hall</td>\n",
              "      <td>10</td>\n",
              "      <td>2013-08-29 14:43:00</td>\n",
              "      <td>San Jose City Hall</td>\n",
              "      <td>10</td>\n",
              "      <td>661</td>\n",
              "      <td>Subscriber</td>\n",
              "      <td>95138</td>\n",
              "      <td>3</td>\n",
              "      <td>Thursday</td>\n",
              "    </tr>\n",
              "    <tr>\n",
              "      <th>2</th>\n",
              "      <td>4130</td>\n",
              "      <td>71</td>\n",
              "      <td>2013-08-29 10:16:00</td>\n",
              "      <td>Mountain View City Hall</td>\n",
              "      <td>27</td>\n",
              "      <td>2013-08-29 10:17:00</td>\n",
              "      <td>Mountain View City Hall</td>\n",
              "      <td>27</td>\n",
              "      <td>48</td>\n",
              "      <td>Subscriber</td>\n",
              "      <td>97214</td>\n",
              "      <td>3</td>\n",
              "      <td>Thursday</td>\n",
              "    </tr>\n",
              "    <tr>\n",
              "      <th>3</th>\n",
              "      <td>4251</td>\n",
              "      <td>77</td>\n",
              "      <td>2013-08-29 11:29:00</td>\n",
              "      <td>San Jose City Hall</td>\n",
              "      <td>10</td>\n",
              "      <td>2013-08-29 11:30:00</td>\n",
              "      <td>San Jose City Hall</td>\n",
              "      <td>10</td>\n",
              "      <td>26</td>\n",
              "      <td>Subscriber</td>\n",
              "      <td>95060</td>\n",
              "      <td>3</td>\n",
              "      <td>Thursday</td>\n",
              "    </tr>\n",
              "    <tr>\n",
              "      <th>4</th>\n",
              "      <td>4299</td>\n",
              "      <td>83</td>\n",
              "      <td>2013-08-29 12:02:00</td>\n",
              "      <td>South Van Ness at Market</td>\n",
              "      <td>66</td>\n",
              "      <td>2013-08-29 12:04:00</td>\n",
              "      <td>Market at 10th</td>\n",
              "      <td>67</td>\n",
              "      <td>319</td>\n",
              "      <td>Subscriber</td>\n",
              "      <td>94103</td>\n",
              "      <td>3</td>\n",
              "      <td>Thursday</td>\n",
              "    </tr>\n",
              "    <tr>\n",
              "      <th>...</th>\n",
              "      <td>...</td>\n",
              "      <td>...</td>\n",
              "      <td>...</td>\n",
              "      <td>...</td>\n",
              "      <td>...</td>\n",
              "      <td>...</td>\n",
              "      <td>...</td>\n",
              "      <td>...</td>\n",
              "      <td>...</td>\n",
              "      <td>...</td>\n",
              "      <td>...</td>\n",
              "      <td>...</td>\n",
              "      <td>...</td>\n",
              "    </tr>\n",
              "    <tr>\n",
              "      <th>669954</th>\n",
              "      <td>432951</td>\n",
              "      <td>619</td>\n",
              "      <td>2014-09-01 04:21:00</td>\n",
              "      <td>Powell Street BART</td>\n",
              "      <td>39</td>\n",
              "      <td>2014-09-01 04:32:00</td>\n",
              "      <td>Townsend at 7th</td>\n",
              "      <td>65</td>\n",
              "      <td>335</td>\n",
              "      <td>Subscriber</td>\n",
              "      <td>94118</td>\n",
              "      <td>0</td>\n",
              "      <td>Monday</td>\n",
              "    </tr>\n",
              "    <tr>\n",
              "      <th>669955</th>\n",
              "      <td>432950</td>\n",
              "      <td>6712</td>\n",
              "      <td>2014-09-01 03:16:00</td>\n",
              "      <td>Harry Bridges Plaza (Ferry Building)</td>\n",
              "      <td>50</td>\n",
              "      <td>2014-09-01 05:08:00</td>\n",
              "      <td>San Francisco Caltrain (Townsend at 4th)</td>\n",
              "      <td>70</td>\n",
              "      <td>259</td>\n",
              "      <td>Customer</td>\n",
              "      <td>44100</td>\n",
              "      <td>0</td>\n",
              "      <td>Monday</td>\n",
              "    </tr>\n",
              "    <tr>\n",
              "      <th>669956</th>\n",
              "      <td>432949</td>\n",
              "      <td>538</td>\n",
              "      <td>2014-09-01 00:05:00</td>\n",
              "      <td>South Van Ness at Market</td>\n",
              "      <td>66</td>\n",
              "      <td>2014-09-01 00:14:00</td>\n",
              "      <td>5th at Howard</td>\n",
              "      <td>57</td>\n",
              "      <td>466</td>\n",
              "      <td>Customer</td>\n",
              "      <td>32</td>\n",
              "      <td>0</td>\n",
              "      <td>Monday</td>\n",
              "    </tr>\n",
              "    <tr>\n",
              "      <th>669957</th>\n",
              "      <td>432948</td>\n",
              "      <td>568</td>\n",
              "      <td>2014-09-01 00:05:00</td>\n",
              "      <td>South Van Ness at Market</td>\n",
              "      <td>66</td>\n",
              "      <td>2014-09-01 00:15:00</td>\n",
              "      <td>5th at Howard</td>\n",
              "      <td>57</td>\n",
              "      <td>461</td>\n",
              "      <td>Customer</td>\n",
              "      <td>32</td>\n",
              "      <td>0</td>\n",
              "      <td>Monday</td>\n",
              "    </tr>\n",
              "    <tr>\n",
              "      <th>669958</th>\n",
              "      <td>432947</td>\n",
              "      <td>569</td>\n",
              "      <td>2014-09-01 00:05:00</td>\n",
              "      <td>South Van Ness at Market</td>\n",
              "      <td>66</td>\n",
              "      <td>2014-09-01 00:15:00</td>\n",
              "      <td>5th at Howard</td>\n",
              "      <td>57</td>\n",
              "      <td>318</td>\n",
              "      <td>Customer</td>\n",
              "      <td>32</td>\n",
              "      <td>0</td>\n",
              "      <td>Monday</td>\n",
              "    </tr>\n",
              "  </tbody>\n",
              "</table>\n",
              "<p>669959 rows × 13 columns</p>\n",
              "</div>"
            ],
            "text/plain": [
              "            id  duration  ... day_of_week day_of_week_string\n",
              "0         4576        63  ...           3           Thursday\n",
              "1         4607        70  ...           3           Thursday\n",
              "2         4130        71  ...           3           Thursday\n",
              "3         4251        77  ...           3           Thursday\n",
              "4         4299        83  ...           3           Thursday\n",
              "...        ...       ...  ...         ...                ...\n",
              "669954  432951       619  ...           0             Monday\n",
              "669955  432950      6712  ...           0             Monday\n",
              "669956  432949       538  ...           0             Monday\n",
              "669957  432948       568  ...           0             Monday\n",
              "669958  432947       569  ...           0             Monday\n",
              "\n",
              "[669959 rows x 13 columns]"
            ]
          },
          "metadata": {
            "tags": []
          },
          "execution_count": 65
        }
      ]
    },
    {
      "cell_type": "markdown",
      "metadata": {
        "id": "zt-cCFFt715z"
      },
      "source": [
        ""
      ]
    },
    {
      "cell_type": "code",
      "metadata": {
        "colab": {
          "base_uri": "https://localhost:8080/",
          "height": 317
        },
        "id": "J_r2Ovvh7r4H",
        "outputId": "dc5b5adb-482e-462f-83ce-6f3a3edff1a0"
      },
      "source": [
        "tripdays = trips.groupby(\"day_of_week_string\").count()\n",
        "tripdays"
      ],
      "execution_count": 63,
      "outputs": [
        {
          "output_type": "execute_result",
          "data": {
            "text/html": [
              "<div>\n",
              "<style scoped>\n",
              "    .dataframe tbody tr th:only-of-type {\n",
              "        vertical-align: middle;\n",
              "    }\n",
              "\n",
              "    .dataframe tbody tr th {\n",
              "        vertical-align: top;\n",
              "    }\n",
              "\n",
              "    .dataframe thead th {\n",
              "        text-align: right;\n",
              "    }\n",
              "</style>\n",
              "<table border=\"1\" class=\"dataframe\">\n",
              "  <thead>\n",
              "    <tr style=\"text-align: right;\">\n",
              "      <th></th>\n",
              "      <th>id</th>\n",
              "      <th>duration</th>\n",
              "      <th>start_date</th>\n",
              "      <th>start_station_name</th>\n",
              "      <th>start_station_id</th>\n",
              "      <th>end_date</th>\n",
              "      <th>end_station_name</th>\n",
              "      <th>end_station_id</th>\n",
              "      <th>bike_id</th>\n",
              "      <th>subscription_type</th>\n",
              "      <th>zip_code</th>\n",
              "      <th>day_of_week</th>\n",
              "    </tr>\n",
              "    <tr>\n",
              "      <th>day_of_week_string</th>\n",
              "      <th></th>\n",
              "      <th></th>\n",
              "      <th></th>\n",
              "      <th></th>\n",
              "      <th></th>\n",
              "      <th></th>\n",
              "      <th></th>\n",
              "      <th></th>\n",
              "      <th></th>\n",
              "      <th></th>\n",
              "      <th></th>\n",
              "      <th></th>\n",
              "    </tr>\n",
              "  </thead>\n",
              "  <tbody>\n",
              "    <tr>\n",
              "      <th>Friday</th>\n",
              "      <td>109361</td>\n",
              "      <td>109361</td>\n",
              "      <td>109361</td>\n",
              "      <td>109361</td>\n",
              "      <td>109361</td>\n",
              "      <td>109361</td>\n",
              "      <td>109361</td>\n",
              "      <td>109361</td>\n",
              "      <td>109361</td>\n",
              "      <td>109361</td>\n",
              "      <td>108487</td>\n",
              "      <td>109361</td>\n",
              "    </tr>\n",
              "    <tr>\n",
              "      <th>Monday</th>\n",
              "      <td>115873</td>\n",
              "      <td>115873</td>\n",
              "      <td>115873</td>\n",
              "      <td>115873</td>\n",
              "      <td>115873</td>\n",
              "      <td>115873</td>\n",
              "      <td>115873</td>\n",
              "      <td>115873</td>\n",
              "      <td>115873</td>\n",
              "      <td>115873</td>\n",
              "      <td>115071</td>\n",
              "      <td>115873</td>\n",
              "    </tr>\n",
              "    <tr>\n",
              "      <th>Saturday</th>\n",
              "      <td>44785</td>\n",
              "      <td>44785</td>\n",
              "      <td>44785</td>\n",
              "      <td>44785</td>\n",
              "      <td>44785</td>\n",
              "      <td>44785</td>\n",
              "      <td>44785</td>\n",
              "      <td>44785</td>\n",
              "      <td>44785</td>\n",
              "      <td>44785</td>\n",
              "      <td>43431</td>\n",
              "      <td>44785</td>\n",
              "    </tr>\n",
              "    <tr>\n",
              "      <th>Sunday</th>\n",
              "      <td>38391</td>\n",
              "      <td>38391</td>\n",
              "      <td>38391</td>\n",
              "      <td>38391</td>\n",
              "      <td>38391</td>\n",
              "      <td>38391</td>\n",
              "      <td>38391</td>\n",
              "      <td>38391</td>\n",
              "      <td>38391</td>\n",
              "      <td>38391</td>\n",
              "      <td>37245</td>\n",
              "      <td>38391</td>\n",
              "    </tr>\n",
              "    <tr>\n",
              "      <th>Thursday</th>\n",
              "      <td>119089</td>\n",
              "      <td>119089</td>\n",
              "      <td>119089</td>\n",
              "      <td>119089</td>\n",
              "      <td>119089</td>\n",
              "      <td>119089</td>\n",
              "      <td>119089</td>\n",
              "      <td>119089</td>\n",
              "      <td>119089</td>\n",
              "      <td>119089</td>\n",
              "      <td>118317</td>\n",
              "      <td>119089</td>\n",
              "    </tr>\n",
              "    <tr>\n",
              "      <th>Tuesday</th>\n",
              "      <td>122259</td>\n",
              "      <td>122259</td>\n",
              "      <td>122259</td>\n",
              "      <td>122259</td>\n",
              "      <td>122259</td>\n",
              "      <td>122259</td>\n",
              "      <td>122259</td>\n",
              "      <td>122259</td>\n",
              "      <td>122259</td>\n",
              "      <td>122259</td>\n",
              "      <td>121401</td>\n",
              "      <td>122259</td>\n",
              "    </tr>\n",
              "    <tr>\n",
              "      <th>Wednesday</th>\n",
              "      <td>120201</td>\n",
              "      <td>120201</td>\n",
              "      <td>120201</td>\n",
              "      <td>120201</td>\n",
              "      <td>120201</td>\n",
              "      <td>120201</td>\n",
              "      <td>120201</td>\n",
              "      <td>120201</td>\n",
              "      <td>120201</td>\n",
              "      <td>120201</td>\n",
              "      <td>119388</td>\n",
              "      <td>120201</td>\n",
              "    </tr>\n",
              "  </tbody>\n",
              "</table>\n",
              "</div>"
            ],
            "text/plain": [
              "                        id  duration  ...  zip_code  day_of_week\n",
              "day_of_week_string                    ...                       \n",
              "Friday              109361    109361  ...    108487       109361\n",
              "Monday              115873    115873  ...    115071       115873\n",
              "Saturday             44785     44785  ...     43431        44785\n",
              "Sunday               38391     38391  ...     37245        38391\n",
              "Thursday            119089    119089  ...    118317       119089\n",
              "Tuesday             122259    122259  ...    121401       122259\n",
              "Wednesday           120201    120201  ...    119388       120201\n",
              "\n",
              "[7 rows x 12 columns]"
            ]
          },
          "metadata": {
            "tags": []
          },
          "execution_count": 63
        }
      ]
    },
    {
      "cell_type": "code",
      "metadata": {
        "colab": {
          "base_uri": "https://localhost:8080/",
          "height": 317
        },
        "id": "sH_WiE4v8Mnc",
        "outputId": "8350ddf3-7b42-44bc-9af4-7bb48d32bc33"
      },
      "source": [
        "sortedtrips = trips\n",
        "sortedtrips[\"day_of_week_string\"] = pd.Categorical(sortedtrips[\"day_of_week_string\"], categories = [\"Monday\",\n",
        "                                                                                                    \"Tuesday\",\n",
        "                                                                                                    \"Wednesday\",\n",
        "                                                                                                    \"Thursday\",\n",
        "                                                                                                    \"Friday\"], ordered=True)\n",
        "tripdays =  sortedtrips.groupby(\"day_of_week\").count()\n",
        "tripdays"
      ],
      "execution_count": 67,
      "outputs": [
        {
          "output_type": "execute_result",
          "data": {
            "text/html": [
              "<div>\n",
              "<style scoped>\n",
              "    .dataframe tbody tr th:only-of-type {\n",
              "        vertical-align: middle;\n",
              "    }\n",
              "\n",
              "    .dataframe tbody tr th {\n",
              "        vertical-align: top;\n",
              "    }\n",
              "\n",
              "    .dataframe thead th {\n",
              "        text-align: right;\n",
              "    }\n",
              "</style>\n",
              "<table border=\"1\" class=\"dataframe\">\n",
              "  <thead>\n",
              "    <tr style=\"text-align: right;\">\n",
              "      <th></th>\n",
              "      <th>id</th>\n",
              "      <th>duration</th>\n",
              "      <th>start_date</th>\n",
              "      <th>start_station_name</th>\n",
              "      <th>start_station_id</th>\n",
              "      <th>end_date</th>\n",
              "      <th>end_station_name</th>\n",
              "      <th>end_station_id</th>\n",
              "      <th>bike_id</th>\n",
              "      <th>subscription_type</th>\n",
              "      <th>zip_code</th>\n",
              "      <th>day_of_week_string</th>\n",
              "    </tr>\n",
              "    <tr>\n",
              "      <th>day_of_week</th>\n",
              "      <th></th>\n",
              "      <th></th>\n",
              "      <th></th>\n",
              "      <th></th>\n",
              "      <th></th>\n",
              "      <th></th>\n",
              "      <th></th>\n",
              "      <th></th>\n",
              "      <th></th>\n",
              "      <th></th>\n",
              "      <th></th>\n",
              "      <th></th>\n",
              "    </tr>\n",
              "  </thead>\n",
              "  <tbody>\n",
              "    <tr>\n",
              "      <th>0</th>\n",
              "      <td>115873</td>\n",
              "      <td>115873</td>\n",
              "      <td>115873</td>\n",
              "      <td>115873</td>\n",
              "      <td>115873</td>\n",
              "      <td>115873</td>\n",
              "      <td>115873</td>\n",
              "      <td>115873</td>\n",
              "      <td>115873</td>\n",
              "      <td>115873</td>\n",
              "      <td>115071</td>\n",
              "      <td>115873</td>\n",
              "    </tr>\n",
              "    <tr>\n",
              "      <th>1</th>\n",
              "      <td>122259</td>\n",
              "      <td>122259</td>\n",
              "      <td>122259</td>\n",
              "      <td>122259</td>\n",
              "      <td>122259</td>\n",
              "      <td>122259</td>\n",
              "      <td>122259</td>\n",
              "      <td>122259</td>\n",
              "      <td>122259</td>\n",
              "      <td>122259</td>\n",
              "      <td>121401</td>\n",
              "      <td>122259</td>\n",
              "    </tr>\n",
              "    <tr>\n",
              "      <th>2</th>\n",
              "      <td>120201</td>\n",
              "      <td>120201</td>\n",
              "      <td>120201</td>\n",
              "      <td>120201</td>\n",
              "      <td>120201</td>\n",
              "      <td>120201</td>\n",
              "      <td>120201</td>\n",
              "      <td>120201</td>\n",
              "      <td>120201</td>\n",
              "      <td>120201</td>\n",
              "      <td>119388</td>\n",
              "      <td>120201</td>\n",
              "    </tr>\n",
              "    <tr>\n",
              "      <th>3</th>\n",
              "      <td>119089</td>\n",
              "      <td>119089</td>\n",
              "      <td>119089</td>\n",
              "      <td>119089</td>\n",
              "      <td>119089</td>\n",
              "      <td>119089</td>\n",
              "      <td>119089</td>\n",
              "      <td>119089</td>\n",
              "      <td>119089</td>\n",
              "      <td>119089</td>\n",
              "      <td>118317</td>\n",
              "      <td>119089</td>\n",
              "    </tr>\n",
              "    <tr>\n",
              "      <th>4</th>\n",
              "      <td>109361</td>\n",
              "      <td>109361</td>\n",
              "      <td>109361</td>\n",
              "      <td>109361</td>\n",
              "      <td>109361</td>\n",
              "      <td>109361</td>\n",
              "      <td>109361</td>\n",
              "      <td>109361</td>\n",
              "      <td>109361</td>\n",
              "      <td>109361</td>\n",
              "      <td>108487</td>\n",
              "      <td>109361</td>\n",
              "    </tr>\n",
              "    <tr>\n",
              "      <th>5</th>\n",
              "      <td>44785</td>\n",
              "      <td>44785</td>\n",
              "      <td>44785</td>\n",
              "      <td>44785</td>\n",
              "      <td>44785</td>\n",
              "      <td>44785</td>\n",
              "      <td>44785</td>\n",
              "      <td>44785</td>\n",
              "      <td>44785</td>\n",
              "      <td>44785</td>\n",
              "      <td>43431</td>\n",
              "      <td>0</td>\n",
              "    </tr>\n",
              "    <tr>\n",
              "      <th>6</th>\n",
              "      <td>38391</td>\n",
              "      <td>38391</td>\n",
              "      <td>38391</td>\n",
              "      <td>38391</td>\n",
              "      <td>38391</td>\n",
              "      <td>38391</td>\n",
              "      <td>38391</td>\n",
              "      <td>38391</td>\n",
              "      <td>38391</td>\n",
              "      <td>38391</td>\n",
              "      <td>37245</td>\n",
              "      <td>0</td>\n",
              "    </tr>\n",
              "  </tbody>\n",
              "</table>\n",
              "</div>"
            ],
            "text/plain": [
              "                 id  duration  ...  zip_code  day_of_week_string\n",
              "day_of_week                    ...                              \n",
              "0            115873    115873  ...    115071              115873\n",
              "1            122259    122259  ...    121401              122259\n",
              "2            120201    120201  ...    119388              120201\n",
              "3            119089    119089  ...    118317              119089\n",
              "4            109361    109361  ...    108487              109361\n",
              "5             44785     44785  ...     43431                   0\n",
              "6             38391     38391  ...     37245                   0\n",
              "\n",
              "[7 rows x 12 columns]"
            ]
          },
          "metadata": {
            "tags": []
          },
          "execution_count": 67
        }
      ]
    },
    {
      "cell_type": "code",
      "metadata": {
        "id": "0XzWqHZc81Yo"
      },
      "source": [
        "dayofweek = list(tripdays.index.values)"
      ],
      "execution_count": 68,
      "outputs": []
    },
    {
      "cell_type": "code",
      "metadata": {
        "colab": {
          "base_uri": "https://localhost:8080/"
        },
        "id": "Wc7m879D9LtK",
        "outputId": "5f4683bc-aa88-4db4-f039-11700bd9854f"
      },
      "source": [
        "dayofweek"
      ],
      "execution_count": 69,
      "outputs": [
        {
          "output_type": "execute_result",
          "data": {
            "text/plain": [
              "[0, 1, 2, 3, 4, 5, 6]"
            ]
          },
          "metadata": {
            "tags": []
          },
          "execution_count": 69
        }
      ]
    },
    {
      "cell_type": "code",
      "metadata": {
        "id": "8zXSEjxn97ys"
      },
      "source": [
        "dayofweek = [\"Monday\", \"Tuesday\", \"Wednesday\",\"Thursday\", \"Friday\",\"Sat\",\"Sun\"]"
      ],
      "execution_count": 74,
      "outputs": []
    },
    {
      "cell_type": "code",
      "metadata": {
        "id": "SEEMyOHa9MjJ"
      },
      "source": [
        "counts = list(tripdays.duration.values)"
      ],
      "execution_count": 75,
      "outputs": []
    },
    {
      "cell_type": "code",
      "metadata": {
        "colab": {
          "base_uri": "https://localhost:8080/"
        },
        "id": "zdkYXG7C9TsO",
        "outputId": "848030c7-0ef7-4118-cbe1-ad7d646aff40"
      },
      "source": [
        "counts"
      ],
      "execution_count": 76,
      "outputs": [
        {
          "output_type": "execute_result",
          "data": {
            "text/plain": [
              "[115873, 122259, 120201, 119089, 109361, 44785, 38391]"
            ]
          },
          "metadata": {
            "tags": []
          },
          "execution_count": 76
        }
      ]
    },
    {
      "cell_type": "code",
      "metadata": {
        "colab": {
          "base_uri": "https://localhost:8080/",
          "height": 476
        },
        "id": "BmnGIucm9UXK",
        "outputId": "6a472a58-6b4e-4b07-f3f9-cdd760dd42cf"
      },
      "source": [
        "plt.figure(figsize = (20,10))\n",
        "plt.plot(dayofweek[:5], counts[:5])\n",
        "plt.title(\"Number of Trips per Weekday\")\n",
        "plt.xlabel(\"Day of the Week\")\n",
        "plt.ylabel(\"Total Number of Trips\")\n",
        "plt.savefig(\"numtrips.jpg\")\n",
        "plt.show()\n"
      ],
      "execution_count": 83,
      "outputs": [
        {
          "output_type": "display_data",
          "data": {
            "image/png": "[encoded data removed]",
            "text/plain": [
              "<Figure size 1440x720 with 1 Axes>"
            ]
          },
          "metadata": {
            "tags": [],
            "needs_background": "light"
          }
        }
      ]
    },
    {
      "cell_type": "code",
      "metadata": {
        "colab": {
          "base_uri": "https://localhost:8080/",
          "height": 130
        },
        "id": "Kf4wKQB8AOai",
        "outputId": "141f07ca-64dc-4040-97f6-ba745a5b67bb"
      },
      "source": [
        ""
      ],
      "execution_count": 97,
      "outputs": [
        {
          "output_type": "error",
          "ename": "SyntaxError",
          "evalue": "ignored",
          "traceback": [
            "\u001b[0;36m  File \u001b[0;32m\"<ipython-input-97-c77c22e37141>\"\u001b[0;36m, line \u001b[0;32m2\u001b[0m\n\u001b[0;31m    trips.loc(trips[\"duration\"]<= 1000 && trips[\"id\"]<5000)[[\"duration\",\"id\"]]\u001b[0m\n\u001b[0m                                        ^\u001b[0m\n\u001b[0;31mSyntaxError\u001b[0m\u001b[0;31m:\u001b[0m invalid syntax\n"
          ]
        }
      ]
    },
    {
      "cell_type": "code",
      "metadata": {
        "colab": {
          "base_uri": "https://localhost:8080/"
        },
        "id": "_h80YNVlCkOI",
        "outputId": "fb1ac21b-5130-4a64-fe8c-1dd497cfdacc"
      },
      "source": [
        "np.mean(trips[\"id\"])"
      ],
      "execution_count": 114,
      "outputs": [
        {
          "output_type": "execute_result",
          "data": {
            "text/plain": [
              "460382.0098991132"
            ]
          },
          "metadata": {
            "tags": []
          },
          "execution_count": 114
        }
      ]
    },
    {
      "cell_type": "code",
      "metadata": {
        "id": "kmZLaXDICH-D"
      },
      "source": [
        "idtrips1 = trips[trips[\"id\"]<np.mean(trips[\"id\"])]\n",
        "idtrips2 = trips[trips[\"id\"]>=np.mean(trips[\"id\"])]"
      ],
      "execution_count": 115,
      "outputs": []
    },
    {
      "cell_type": "code",
      "metadata": {
        "colab": {
          "base_uri": "https://localhost:8080/",
          "height": 479
        },
        "id": "0x86nLgo9n5O",
        "outputId": "a0eb716e-b86e-4864-f20d-5d4c4cffd6a5"
      },
      "source": [
        "plt.figure(figsize=(20,10))\n",
        "plt.hist(trips[trips[\"duration\"]<= 1000].duration, bins = 10, alpha = 0.1)\n",
        "plt.title(\"Histogram of durations of trips\")\n",
        "plt.xlabel(\"Duration\")\n",
        "plt.ylabel(\"Count\")\n",
        "plt.show()"
      ],
      "execution_count": 116,
      "outputs": [
        {
          "output_type": "display_data",
          "data": {
            "image/png": "[encoded data removed]",
            "text/plain": [
              "<Figure size 1440x720 with 1 Axes>"
            ]
          },
          "metadata": {
            "tags": [],
            "needs_background": "light"
          }
        }
      ]
    },
    {
      "cell_type": "code",
      "metadata": {
        "colab": {
          "base_uri": "https://localhost:8080/",
          "height": 479
        },
        "id": "JzBEajtv_msE",
        "outputId": "7569508a-7aed-458d-d171-b40299fbd83c"
      },
      "source": [
        "plt.figure(figsize=(20,10))\n",
        "plt.hist(idtrips1[idtrips1[\"duration\"]<= 1000].duration, bins = 50, alpha = 0.2)\n",
        "plt.hist(idtrips2[idtrips2[\"duration\"]<= 1000].duration, bins = 50, alpha = 0.2)\n",
        "\n",
        "plt.title(\"Histogram of durations of trips\")\n",
        "plt.xlabel(\"Duration\")\n",
        "plt.ylabel(\"Count\")\n",
        "plt.show()"
      ],
      "execution_count": 119,
      "outputs": [
        {
          "output_type": "display_data",
          "data": {
            "image/png": "[encoded data removed]",
            "text/plain": [
              "<Figure size 1440x720 with 1 Axes>"
            ]
          },
          "metadata": {
            "tags": [],
            "needs_background": "light"
          }
        }
      ]
    },
    {
      "cell_type": "code",
      "metadata": {
        "id": "OORtgofTCW7s"
      },
      "source": [
        ""
      ],
      "execution_count": null,
      "outputs": []
    }
  ]
}